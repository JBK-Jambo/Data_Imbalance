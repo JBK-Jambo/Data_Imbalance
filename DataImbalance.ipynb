{
 "cells": [
  {
   "cell_type": "code",
   "execution_count": 1,
   "id": "efb16f8d",
   "metadata": {},
   "outputs": [],
   "source": [
    "# To deal with Data Imbalance Problem\n",
    "# Using Oversampling"
   ]
  },
  {
   "cell_type": "code",
   "execution_count": 2,
   "id": "f8fc8381",
   "metadata": {},
   "outputs": [],
   "source": [
    "import pandas as pd\n",
    "import numpy as np\n",
    "import xgboost\n",
    "import matplotlib.pyplot as plt\n",
    "\n",
    "from sklearn.model_selection import train_test_split\n",
    "from xgboost import XGBClassifier\n",
    "from matplotlib.pyplot import rcParams\n",
    "from sklearn.metrics import ConfusionMatrixDisplay\n",
    "from sklearn.metrics import accuracy_score, precision_score, f1_score, recall_score"
   ]
  },
  {
   "cell_type": "code",
   "execution_count": 3,
   "id": "2e593c5b",
   "metadata": {},
   "outputs": [],
   "source": [
    "# Data Reading\n",
    "\n",
    "cust = pd.read_csv('./Customer.csv', encoding = 'cp949')\n",
    "df = pd.read_csv('./Claim.csv', encoding = 'cp949')"
   ]
  },
  {
   "cell_type": "code",
   "execution_count": 4,
   "id": "0c7225c9",
   "metadata": {},
   "outputs": [
    {
     "name": "stderr",
     "output_type": "stream",
     "text": [
      "/Users/jangbaekwon/opt/anaconda3/envs/jbk/lib/python3.7/site-packages/ipykernel_launcher.py:4: SettingWithCopyWarning: \n",
      "A value is trying to be set on a copy of a slice from a DataFrame.\n",
      "Try using .loc[row_indexer,col_indexer] = value instead\n",
      "\n",
      "See the caveats in the documentation: https://pandas.pydata.org/pandas-docs/stable/user_guide/indexing.html#returning-a-view-versus-a-copy\n",
      "  after removing the cwd from sys.path.\n"
     ]
    }
   ],
   "source": [
    "# Data Concatenate\n",
    "\n",
    "data_add = cust[['CUST_ID', 'SIU_CUST_YN']]\n",
    "data_add['SIU_CUST_YN'] = data_add.SIU_CUST_YN.map({'Y' : 1, 'N' : 0})\n",
    "ID_SIU_dict = data_add.set_index('CUST_ID').T.to_dict('list')\n",
    "\n",
    "\n",
    "target = []\n",
    "for i in range(df.shape[0]):\n",
    "    ID = df.CUST_ID[i]\n",
    "    target.append(ID_SIU_dict[ID])\n",
    "df['target'] = np.array(target)"
   ]
  },
  {
   "cell_type": "code",
   "execution_count": 5,
   "id": "4c4ffed3",
   "metadata": {},
   "outputs": [],
   "source": [
    "# Drop the some of columns not necessary and NaN\n",
    "\n",
    "df = df.dropna()\n",
    "df = df.drop(['CUST_ID'], axis = 1)\n",
    "df = df.drop(['POLY_NO'], axis = 1)\n",
    "df = df.drop(['ACCI_OCCP_GRP2'], axis = 1)\n",
    "df = df.drop(['CNTT_RECP_SQNO'], axis = 1)\n",
    "df = df.drop(['RECP_DATE'], axis = 1) \n",
    "df = df.drop(['ORIG_RESN_DATE'], axis = 1)\n",
    "df = df.drop(['RESN_DATE'], axis = 1)\n",
    "df = df.drop(['DSAS_NAME'], axis = 1)\n",
    "df = df.drop(['RESL_NM1'], axis = 1)\n",
    "df = df.drop(['PAYM_DATE'], axis = 1)"
   ]
  },
  {
   "cell_type": "code",
   "execution_count": 6,
   "id": "4dc70103",
   "metadata": {},
   "outputs": [],
   "source": [
    "# EDA\n",
    "# To Check the Relevance btw Features and target, made function\n",
    "\n",
    "def cal_percentage_1(k):\n",
    "  print(df.keys()[k])\n",
    "  \n",
    "  value = []\n",
    "\n",
    "  rank = []\n",
    "\n",
    "  for i in range(len(df[df.keys()[k]].value_counts())):\n",
    "    value.append(df[df.keys()[k]].value_counts().index[i])\n",
    "  \n",
    "  for j in range(len(value)):\n",
    "    sum = 0\n",
    "    for i in range(df.shape[0]):\n",
    "      if df[df.keys()[k]].to_numpy()[i] == value[j]:\n",
    "        if df['target'].to_numpy()[i] == 1:\n",
    "          sum += 1\n",
    "    rank.append([value[j], round(sum / df['target'].value_counts()[1], 3)])\n",
    "    #print(value[j], round(sum / df['target'].value_counts()[1], 3))\n",
    "  print(sorted(rank, key = lambda rank: rank[1], reverse = True), '\\n', '\\n')"
   ]
  },
  {
   "cell_type": "code",
   "execution_count": null,
   "id": "76835db0",
   "metadata": {},
   "outputs": [],
   "source": [
    "for i in range(df.shape[1]):\n",
    "    cal_percentage_1(i)"
   ]
  },
  {
   "cell_type": "code",
   "execution_count": 7,
   "id": "8a8bca38",
   "metadata": {},
   "outputs": [],
   "source": [
    "# Delete Additinal Columns which are Ambiguous against the target\n",
    "\n",
    "df = df.drop(['CAUS_CODE'], axis = 1)\n",
    "df = df.drop(['RESL_CD1'], axis = 1)\n",
    "df = df.drop(['HOSP_CODE'], axis = 1)\n",
    "df = df.drop(['DMND_AMT'], axis = 1)\n",
    "df = df.drop(['PAYM_AMT'], axis = 1)\n",
    "df = df.drop(['PMMI_DLNG_YN'], axis = 1)\n",
    "df = df.drop(['SELF_CHAM'], axis = 1)\n",
    "df = df.drop(['NON_PAY'], axis = 1)\n",
    "df = df.drop(['PATT_CHRG_TOTA'], axis = 1)\n",
    "df = df.drop(['NON_PAY_RATIO'], axis = 1)\n",
    "df = df.drop(['HOSP_OTPA_STDT'], axis = 1)\n",
    "df = df.drop(['HOSP_OTPA_ENDT'], axis = 1)\n",
    "df = df.drop(['DCAF_CMPS_XCPA'], axis = 1)"
   ]
  },
  {
   "cell_type": "code",
   "execution_count": 8,
   "id": "09d6a03f",
   "metadata": {},
   "outputs": [
    {
     "data": {
      "text/plain": [
       "0.0    6443\n",
       "1.0     340\n",
       "Name: target, dtype: int64"
      ]
     },
     "execution_count": 8,
     "metadata": {},
     "output_type": "execute_result"
    }
   ],
   "source": [
    "# Check the Balance of the Target\n",
    "# There's Data Imbalance\n",
    "\n",
    "df['target'].value_counts()"
   ]
  },
  {
   "cell_type": "code",
   "execution_count": 9,
   "id": "ecf7dbc3",
   "metadata": {},
   "outputs": [],
   "source": [
    "# df to Split X and Y\n",
    "\n",
    "x = df.iloc[:, :16]\n",
    "y = df['target']\n",
    "\n",
    "x = pd.get_dummies(x)"
   ]
  },
  {
   "cell_type": "code",
   "execution_count": 10,
   "id": "0c2c7e1e",
   "metadata": {},
   "outputs": [
    {
     "name": "stdout",
     "output_type": "stream",
     "text": [
      "0.9491525423728814\n"
     ]
    },
    {
     "data": {
      "image/png": "[encoded data removed]",
      "text/plain": [
       "<Figure size 432x288 with 2 Axes>"
      ]
     },
     "metadata": {
      "needs_background": "light"
     },
     "output_type": "display_data"
    },
    {
     "name": "stdout",
     "output_type": "stream",
     "text": [
      "accuracy 0.9491525423728814\n",
      "precision 1.0\n",
      "recall 0.1686746987951807\n",
      "f1 0.288659793814433\n"
     ]
    }
   ],
   "source": [
    "# Modeling (gbtree) and Check the Score\n",
    "# From the Result, the Low Score of Recall is Shown due to Data Imbalance\n",
    "\n",
    "x_train, x_test, y_train, y_test = train_test_split(x, y, test_size = 0.2, shuffle = True)\n",
    "\n",
    "model = XGBClassifier(booster = 'gbtree', objective = 'binary:logistic')\n",
    "model.fit(x_train, y_train)\n",
    "pred = model.predict(x_test)\n",
    "\n",
    "matches = (pred == y_test)\n",
    "print(matches.sum()/len(matches))\n",
    "\n",
    "rcParams['figure.figsize'] = 7, 7\n",
    "ConfusionMatrixDisplay.from_predictions(y_test, pred)\n",
    "plt.show()\n",
    "\n",
    "print('accuracy', accuracy_score(y_test, pred)) \n",
    "print('precision', precision_score(y_test, pred)) \n",
    "print('recall', recall_score(y_test, pred))\n",
    "print('f1', f1_score(y_test, pred))"
   ]
  },
  {
   "cell_type": "code",
   "execution_count": 11,
   "id": "39c68861",
   "metadata": {},
   "outputs": [
    {
     "name": "stdout",
     "output_type": "stream",
     "text": [
      "0.871039056742815\n"
     ]
    },
    {
     "data": {
      "image/png": "[encoded data removed]",
      "text/plain": [
       "<Figure size 504x504 with 2 Axes>"
      ]
     },
     "metadata": {
      "needs_background": "light"
     },
     "output_type": "display_data"
    },
    {
     "name": "stdout",
     "output_type": "stream",
     "text": [
      "accuracy 0.871039056742815\n",
      "precision 0.2889908256880734\n",
      "recall 0.7590361445783133\n",
      "f1 0.41860465116279066\n"
     ]
    }
   ],
   "source": [
    "# Oversampling can Solve the Data Imbalance Problem\n",
    "# The Result Shows much better Score of the Recall\n",
    "\n",
    "from imblearn.over_sampling import RandomOverSampler\n",
    "\n",
    "ros = RandomOverSampler(random_state = 0)\n",
    "\n",
    "x_resampled, y_resampled = ros.fit_resample(x, y)\n",
    "\n",
    "model = XGBClassifier(booster = 'gbtree', objective = 'binary:logistic')\n",
    "model.fit(x_resampled, y_resampled)\n",
    "pred = model.predict(x_test)\n",
    "\n",
    "matches = (pred == y_test)\n",
    "print(matches.sum()/len(matches))\n",
    "\n",
    "rcParams['figure.figsize'] = 7, 7\n",
    "ConfusionMatrixDisplay.from_predictions(y_test, pred)\n",
    "plt.show()\n",
    "\n",
    "print('accuracy', accuracy_score(y_test, pred)) \n",
    "print('precision', precision_score(y_test, pred))\n",
    "print('recall', recall_score(y_test, pred))\n",
    "print('f1', f1_score(y_test, pred))"
   ]
  }
 ],
 "metadata": {
  "kernelspec": {
   "display_name": "Python 3 (ipykernel)",
   "language": "python",
   "name": "python3"
  },
  "language_info": {
   "codemirror_mode": {
    "name": "ipython",
    "version": 3
   },
   "file_extension": ".py",
   "mimetype": "text/x-python",
   "name": "python",
   "nbconvert_exporter": "python",
   "pygments_lexer": "ipython3",
   "version": "3.7.0"
  }
 },
 "nbformat": 4,
 "nbformat_minor": 5
}
